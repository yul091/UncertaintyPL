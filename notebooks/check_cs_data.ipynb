{
 "cells": [
  {
   "cell_type": "code",
   "execution_count": 1,
   "metadata": {},
   "outputs": [],
   "source": [
    "import pickle"
   ]
  },
  {
   "cell_type": "code",
   "execution_count": 3,
   "metadata": {},
   "outputs": [],
   "source": [
    "SHIFT_TYPE='different_author' # different_project, different_author, different_time\n",
    "DATA_DIR=f'../dataset/code_summary/{SHIFT_TYPE}/java_pkl'\n",
    "TK_PATH=f'{DATA_DIR}/tk.pkl'\n",
    "TRAIN_DATA=f'{DATA_DIR}/train.pkl' # file for training dataset\n",
    "\n",
    "train_data = pickle.load(open(TRAIN_DATA, 'rb'))"
   ]
  },
  {
   "cell_type": "code",
   "execution_count": 8,
   "metadata": {},
   "outputs": [
    {
     "name": "stdout",
     "output_type": "stream",
     "text": [
      "[[4, 4, 5], [6, 5, 7], [8, 6, 9], [5, 7, 9], [10, 8, 11], [10, 9, 12], [8, 10, 13], [14, 11, 15], [10, 12, 10], [8, 6, 9], [8, 13, 16], [16, 14, 10], [9, 15, 13], [10, 16, 11], [17, 17, 10], [18, 18, 19], [10, 19, 13], [10, 20, 9], [16, 21, 10], [16, 22, 9], [10, 23, 13], [17, 24, 20], [17, 25, 16], [13, 26, 12], [13, 27, 5], [17, 28, 15], [8, 29, 10], [6, 30, 19], [4, 31, 13], [16, 32, 13], [16, 33, 12], [10, 34, 5], [8, 35, 11], [4, 4, 16], [14, 36, 10], [19, 37, 20], [18, 38, 20], [11, 39, 13], [4, 40, 10], [16, 41, 12], [13, 42, 10], [10, 12, 10], [17, 43, 11], [16, 44, 16], [18, 45, 10], [16, 46, 9], [10, 47, 9], [13, 48, 9], [10, 20, 9], [11, 44, 11], [9, 49, 9], [4, 50, 12], [13, 51, 9], [16, 52, 13], [10, 23, 13], [9, 15, 13], [10, 53, 11], [10, 54, 15], [17, 55, 6], [16, 56, 5], [10, 53, 16], [19, 57, 10], [18, 58, 15], [11, 14, 10], [10, 59, 6], [16, 14, 10], [8, 6, 9], [5, 52, 13], [16, 33, 11], [16, 60, 11], [10, 8, 16], [13, 42, 10], [17, 61, 19], [17, 62, 9], [13, 48, 9], [8, 29, 10], [6, 63, 6], [10, 47, 9], [10, 64, 21], [19, 65, 7], [10, 66, 7], [10, 67, 15], [17, 68, 10], [6, 69, 21], [6, 70, 20], [11, 60, 5], [19, 71, 14], [10, 72, 19], [16, 56, 11], [16, 73, 9], [9, 74, 12], [10, 75, 13], [19, 76, 15], [22, 77, 8], [16, 41, 11], [17, 62, 9], [6, 78, 20], [6, 79, 14], [7, 80, 20], [10, 81, 5], [16, 46, 9], [9, 74, 11], [10, 81, 11], [21, 82, 7], [17, 83, 13], [10, 81, 5], [10, 9, 12], [4, 84, 10], [11, 46, 9], [13, 85, 13], [18, 86, 7], [10, 19, 13], [11, 56, 5], [4, 87, 17], [13, 27, 11], [4, 88, 9], [18, 89, 21], [8, 10, 13], [11, 22, 9], [16, 90, 13], [12, 73, 9], [21, 91, 15], [8, 35, 16], [10, 47, 9], [9, 74, 12], [16, 32, 13], [21, 92, 20], [10, 20, 9], [9, 49, 9], [16, 22, 9], [18, 93, 14], [8, 29, 10], [21, 94, 14], [11, 32, 13], [22, 95, 4], [10, 96, 9], [17, 68, 10], [9, 97, 5], [10, 16, 16], [19, 98, 6], [4, 50, 11], [18, 99, 6], [10, 100, 20], [21, 101, 10], [14, 102, 7], [11, 73, 9], [17, 103, 18], [5, 44, 12], [8, 104, 10], [8, 105, 4], [11, 21, 10], [8, 13, 11], [16, 21, 10], [11, 52, 13], [11, 33, 12], [4, 31, 13], [4, 50, 16], [9, 97, 5], [17, 106, 7], [17, 107, 6], [10, 34, 16], [4, 40, 10], [4, 40, 10], [10, 108, 18], [11, 41, 12], [10, 12, 10], [10, 9, 11], [4, 88, 9], [20, 109, 9], [16, 39, 13], [9, 110, 10], [10, 19, 13], [4, 88, 9], [10, 111, 10], [13, 26, 12], [4, 31, 13], [9, 110, 10], [13, 26, 11], [10, 16, 12], [17, 83, 13], [9, 110, 10], [8, 112, 17], [6, 113, 10], [16, 7, 9], [10, 34, 11], [13, 27, 5], [4, 114, 20], [13, 85, 13], [8, 115, 20], [13, 85, 13], [10, 116, 6], [11, 90, 13], [9, 49, 9], [9, 97, 11], [13, 48, 9], [15, 117, 20], [7, 118, 15], [6, 119, 21], [6, 120, 18], [20, 109, 9]]\n",
      "4\n"
     ]
    }
   ],
   "source": [
    "context, target = train_data[0]\n",
    "print(context)\n",
    "print(target)"
   ]
  },
  {
   "cell_type": "code",
   "execution_count": 17,
   "metadata": {},
   "outputs": [],
   "source": [
    "def dict2list(token2index: dict):\n",
    "    # index2token (0 -> UNK, 1 -> PAD)\n",
    "    res = {}\n",
    "    for k in token2index:\n",
    "        res[token2index[k]] = k \n",
    "    return res \n",
    "\n",
    "with open(TK_PATH, 'rb') as f:\n",
    "    token2index, path2index, func2index = pickle.load(f)\n",
    "    \n",
    "def toktransfer(context):\n",
    "    if context not in index2token: # OOD token\n",
    "        return '____UNKNOW____'\n",
    "    else:\n",
    "        tk = ''.join(index2token[context].split('|')).lower()\n",
    "        return tk\n",
    "    \n",
    "def pathtransfer(path):\n",
    "    if path2index is None:\n",
    "        return path\n",
    "    else:\n",
    "        if path not in index2path: # OOD path\n",
    "            return '____UNKNOW____'\n",
    "        else:\n",
    "            return index2path[path]\n",
    "        \n",
    "def functransfer(label):\n",
    "    if func2index is None:\n",
    "        return label\n",
    "    else:\n",
    "        if label not in index2func: # OOD label\n",
    "            return '____UNKNOW____'\n",
    "        else:\n",
    "            return index2func[label]\n",
    "        \n",
    "\n",
    "tk2num = token2index\n",
    "index2token = dict2list(token2index)\n",
    "index2path = dict2list(path2index)\n",
    "index2func = dict2list(func2index)\n",
    "code_context = [\n",
    "    [\n",
    "        toktransfer(context[0]), \n",
    "        pathtransfer(context[1]), \n",
    "        toktransfer(context[2])\n",
    "    ]\n",
    "    for context in context\n",
    "]\n",
    "trans_tgt = functransfer(target)"
   ]
  },
  {
   "cell_type": "code",
   "execution_count": 18,
   "metadata": {},
   "outputs": [
    {
     "data": {
      "text/plain": [
       "'test'"
      ]
     },
     "execution_count": 18,
     "metadata": {},
     "output_type": "execute_result"
    }
   ],
   "source": [
    "code_context\n",
    "trans_tgt"
   ]
  },
  {
   "cell_type": "code",
   "execution_count": null,
   "metadata": {},
   "outputs": [],
   "source": []
  }
 ],
 "metadata": {
  "kernelspec": {
   "display_name": "base",
   "language": "python",
   "name": "python3"
  },
  "language_info": {
   "codemirror_mode": {
    "name": "ipython",
    "version": 3
   },
   "file_extension": ".py",
   "mimetype": "text/x-python",
   "name": "python",
   "nbconvert_exporter": "python",
   "pygments_lexer": "ipython3",
   "version": "3.9.13"
  },
  "orig_nbformat": 4
 },
 "nbformat": 4,
 "nbformat_minor": 2
}
