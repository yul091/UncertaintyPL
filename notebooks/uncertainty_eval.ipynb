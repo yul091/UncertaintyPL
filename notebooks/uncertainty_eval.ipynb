{
 "cells": [
  {
   "cell_type": "code",
   "execution_count": 1,
   "metadata": {},
   "outputs": [
    {
     "name": "stderr",
     "output_type": "stream",
     "text": [
      "/home/yuli/anaconda3/envs/py3.10/lib/python3.10/site-packages/tqdm/auto.py:22: TqdmWarning: IProgress not found. Please update jupyter and ipywidgets. See https://ipywidgets.readthedocs.io/en/stable/user_install.html\n",
      "  from .autonotebook import tqdm as notebook_tqdm\n"
     ]
    }
   ],
   "source": [
    "import os\n",
    "import torch\n",
    "import pandas as pd\n",
    "import matplotlib.pyplot as plt\n",
    "import seaborn as sns"
   ]
  },
  {
   "cell_type": "code",
   "execution_count": 4,
   "metadata": {},
   "outputs": [],
   "source": [
    "DIR = '../Uncertainty_Results/'\n",
    "SHIFT = 'different_author'\n",
    "TASK = 'CodeSummary_Module'\n",
    "model = 'code2vec'\n",
    "\n",
    "src_dir = os.path.join(DIR, SHIFT, model, TASK)\n",
    "# {train: array, val: array, test1: array, test2: array, test3: array}\n",
    "label = torch.load(os.path.join(src_dir, 'truth.res')) # Boolean\n",
    "vanilla = torch.load(os.path.join(src_dir, 'Vanilla.res'))\n",
    "entropy = torch.load(os.path.join(src_dir, 'Entropy.res')) \n",
    "temp = torch.load(os.path.join(src_dir, 'ModelWithTemperature.res'))\n",
    "dropout = torch.load(os.path.join(src_dir, 'ModelActivateDropout.res'))\n",
    "mutant = torch.load(os.path.join(src_dir, 'Mutation.res')) # split [array, array, array, array]\n",
    "dissector = torch.load(os.path.join(src_dir, 'PVScore.res')) # split [array, array, array]"
   ]
  },
  {
   "cell_type": "code",
   "execution_count": null,
   "metadata": {},
   "outputs": [],
   "source": []
  }
 ],
 "metadata": {
  "kernelspec": {
   "display_name": "base",
   "language": "python",
   "name": "python3"
  },
  "language_info": {
   "codemirror_mode": {
    "name": "ipython",
    "version": 3
   },
   "file_extension": ".py",
   "mimetype": "text/x-python",
   "name": "python",
   "nbconvert_exporter": "python",
   "pygments_lexer": "ipython3",
   "version": "3.10.8"
  },
  "orig_nbformat": 4
 },
 "nbformat": 4,
 "nbformat_minor": 2
}
