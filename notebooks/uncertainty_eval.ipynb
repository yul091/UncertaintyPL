{
 "cells": [
  {
   "cell_type": "code",
   "execution_count": 1,
   "metadata": {},
   "outputs": [
    {
     "name": "stderr",
     "output_type": "stream",
     "text": [
      "/home/yuli/anaconda3/envs/py3.10/lib/python3.10/site-packages/tqdm/auto.py:22: TqdmWarning: IProgress not found. Please update jupyter and ipywidgets. See https://ipywidgets.readthedocs.io/en/stable/user_install.html\n",
      "  from .autonotebook import tqdm as notebook_tqdm\n"
     ]
    }
   ],
   "source": [
    "import os\n",
    "import torch\n",
    "import pandas as pd\n",
    "import matplotlib.pyplot as plt\n",
    "import seaborn as sns"
   ]
  },
  {
   "cell_type": "code",
   "execution_count": 4,
   "metadata": {},
   "outputs": [],
   "source": [
    "DIR = '../Uncertainty_Results/'\n",
    "SHIFT = 'different_author'\n",
    "TASK = 'CodeSummary_Module'\n",
    "model = 'code2vec'\n",
    "\n",
    "src_dir = os.path.join(DIR, SHIFT, model, TASK)\n",
    "# {train: array, val: array, test1: array, test2: array, test3: array}\n",
    "label = torch.load(os.path.join(src_dir, 'truth.res')) # Boolean\n",
    "vanilla = torch.load(os.path.join(src_dir, 'Vanilla.res'))\n",
    "entropy = torch.load(os.path.join(src_dir, 'Entropy.res')) \n",
    "temp = torch.load(os.path.join(src_dir, 'ModelWithTemperature.res'))\n",
    "dropout = torch.load(os.path.join(src_dir, 'ModelActivateDropout.res'))\n",
    "mutant = torch.load(os.path.join(src_dir, 'Mutation.res')) # split [array, array, array, array]\n",
    "dissector = torch.load(os.path.join(src_dir, 'PVScore.res')) # split [array, array, array]"
   ]
  },
  {
   "cell_type": "code",
   "execution_count": 34,
   "metadata": {},
   "outputs": [],
   "source": [
    "method_transform = {\n",
    "    'Vanilla': 'Vanilla',\n",
    "    'Entropy': 'Entropy',\n",
    "    'ModelWithTemperature': 'Temp Scale',\n",
    "    'ModelActivateDropout': 'MC-Dropout',\n",
    "    'Mutation': 'mMutant',\n",
    "    'PVScore': 'Dissector',\n",
    "}\n",
    "task_transform = {\n",
    "    'CodeSummary_Module': 'Method name prediction',\n",
    "    'CodeCompletion_module': 'Code completion',\n",
    "}\n",
    "CSMODELS = ['code2vec', 'coderoberta', 'graphcodebert']\n",
    "CCMODELS = ['lstm', 'codebert', 'codegpt']\n",
    "\n",
    "def get_dataframe(shift: str, task: str):\n",
    "    record = []\n",
    "    if task == 'CodeSummary_Module':\n",
    "        models = CSMODELS\n",
    "    else:\n",
    "        models = CCMODELS\n",
    "    for model in models:\n",
    "        res = torch.load(os.path.join(DIR, shift, model, task, 'uncertainty_eval.res'))\n",
    "        for ue, outputs in res.items():\n",
    "            auc_res = outputs['AUC']\n",
    "            aupr_res = outputs['AUPR']\n",
    "            brier_res = outputs['Brier']\n",
    "            if ue in ['Mutation', 'PVScore']:\n",
    "                auc_ins = {\n",
    "                    'Method': method_transform[ue],\n",
    "                    'Metric': 'AUC',\n",
    "                    'Shift': shift,\n",
    "                    'Task': task_transform[task],\n",
    "                    'Model': model,\n",
    "                    'Validation': auc_res[0]['val']*100,\n",
    "                    'Shift1': auc_res[0]['test1']*100,\n",
    "                    'Shift2': auc_res[0]['test2']*100,\n",
    "                    'Shift3': auc_res[0]['test3']*100,\n",
    "                }\n",
    "                aupr_ins = {\n",
    "                    'Method': method_transform[ue],\n",
    "                    'Metric': 'AUPR',\n",
    "                    'Shift': shift,\n",
    "                    'Task': task_transform[task],\n",
    "                    'Model': model,\n",
    "                    'Validation': aupr_res[0]['val']*100,\n",
    "                    'Shift1': aupr_res[0]['test1']*100,\n",
    "                    'Shift2': aupr_res[0]['test2']*100,\n",
    "                    'Shift3': aupr_res[0]['test3']*100,\n",
    "                }\n",
    "                brier_ins = {\n",
    "                    'Method': method_transform[ue],\n",
    "                    'Metric': 'Brier',\n",
    "                    'Shift': shift,\n",
    "                    'Task': task_transform[task],\n",
    "                    'Model': model,\n",
    "                    'Validation': brier_res[0]['val']*100,\n",
    "                    'Shift1': brier_res[0]['test1']*100,\n",
    "                    'Shift2': brier_res[0]['test2']*100,\n",
    "                    'Shift3': brier_res[0]['test3']*100,\n",
    "                }\n",
    "            else:\n",
    "                auc_ins = {\n",
    "                    'Method': method_transform[ue],\n",
    "                    'Metric': 'AUC',\n",
    "                    'Shift': shift,\n",
    "                    'Task': task_transform[task],\n",
    "                    'Model': model,\n",
    "                    'Validation': auc_res['val']*100,\n",
    "                    'Shift1': auc_res['test1']*100,\n",
    "                    'Shift2': auc_res['test2']*100,\n",
    "                    'Shift3': auc_res['test3']*100,\n",
    "                }\n",
    "                aupr_ins = {\n",
    "                    'Method': method_transform[ue],\n",
    "                    'Metric': 'AUPR',\n",
    "                    'Shift': shift,\n",
    "                    'Task': task_transform[task],\n",
    "                    'Model': model,\n",
    "                    'Validation': aupr_res['val']*100,\n",
    "                    'Shift1': aupr_res['test1']*100,\n",
    "                    'Shift2': aupr_res['test2']*100,\n",
    "                    'Shift3': aupr_res['test3']*100,\n",
    "                }\n",
    "                brier_ins = {\n",
    "                    'Method': method_transform[ue],\n",
    "                    'Metric': 'Brier',\n",
    "                    'Shift': shift,\n",
    "                    'Task': task_transform[task],\n",
    "                    'Model': model,\n",
    "                    'Validation': brier_res['val']*100,\n",
    "                    'Shift1': brier_res['test1']*100,\n",
    "                    'Shift2': brier_res['test2']*100,\n",
    "                    'Shift3': brier_res['test3']*100,\n",
    "                }\n",
    "            record.append(auc_ins)\n",
    "            record.append(aupr_ins)\n",
    "            record.append(brier_ins)\n",
    "        \n",
    "    df = pd.DataFrame(record)\n",
    "    return df"
   ]
  },
  {
   "cell_type": "code",
   "execution_count": 155,
   "metadata": {},
   "outputs": [],
   "source": [
    "dir = '../Uncertainty_Eval/'\n",
    "task = 'CodeSummary_Module'\n",
    "shift = 'different_time'\n",
    "\n",
    "time_cs_df = get_dataframe(shift, task)\n",
    "time_cs_df = time_cs_df[time_cs_df['Metric'] == 'AUC']\n",
    "time_cs_df\n",
    "\n",
    "time_cs_df = pd.DataFrame({\n",
    "    'Method': ['Temp Scale', 'Entropy', 'mMutant', 'Vanilla', 'MC-Dropout', 'Dissector'] * 3,\n",
    "    'Metric': ['AUC'] * 6 * 3,\n",
    "    'Shift': ['different_time'] * 6 * 3,\n",
    "    'Task': ['Method name prediction'] * 6 * 3,\n",
    "    'Model': ['code2vec'] * 6 + ['coderoberta'] * 6 + ['graphcodebert'] * 6,\n",
    "    'Validation': [73.5909, 79.4082, 77.2293, 76.4762, 83.2745, 74.2274,    85.0456, 84.8456, 83.4005, 87.0435, 86.3323, 82.2777,   80.7000, 77.0327, 82.9378, 83.0686, 78.1921, 78.8093],\n",
    "    'Shift1':     [70.5611, 74.1318, 75.9097, 75.5896, 82.8990, 74.3168,    84.1747, 80.3423, 83.9688, 86.5941, 86.3301, 81.3000,   78.1556, 72.6137, 80.9110, 82.7000, 76.8935, 78.3678],\n",
    "    'Shift2':     [69.8602, 72.8542, 75.3423, 74.4817, 82.2513, 74.5058,    83.7821, 80.4276, 82.7655, 85.5976, 86.2355, 81.0884,   76.2295, 72.4456, 80.7969, 81.5427, 77.8357, 78.0476],\n",
    "    'Shift3':     [69.1871, 72.0741, 75.3601, 73.8127, 81.7309, 73.0786,    82.3923, 81.0733, 82.5825, 84.5333, 85.5618, 80.2439,   74.2127, 71.4967, 81.1697, 80.8550, 78.5781, 78.6105],\n",
    "})"
   ]
  },
  {
   "cell_type": "code",
   "execution_count": 156,
   "metadata": {},
   "outputs": [
    {
     "data": {
      "image/png": "[encoded data removed]",
      "text/plain": [
       "<Figure size 650x350 with 1 Axes>"
      ]
     },
     "metadata": {},
     "output_type": "display_data"
    }
   ],
   "source": [
    "# Reshape the data using melt function\n",
    "data_melt = pd.melt(\n",
    "    time_cs_df, \n",
    "    id_vars=['Method', 'Metric', 'Shift', 'Task', 'Model'],\n",
    "    value_vars=['Validation', 'Shift1', 'Shift2', 'Shift3'],\n",
    "    var_name='Shift_Intensity', \n",
    "    value_name='AUC',\n",
    ")\n",
    "\n",
    "# Plot boxplot using seaborn\n",
    "method_order = ['Vanilla', 'Temp Scale', 'mMutant', 'MC-Dropout', 'Dissector']\n",
    "plt.figure(figsize=(6.5, 3.5))\n",
    "plt.grid(True, color='#DDDDDD', linestyle='--', linewidth=1)\n",
    "ax = sns.boxplot(\n",
    "    data=data_melt, \n",
    "    x='Shift_Intensity', \n",
    "    y='AUC', \n",
    "    hue='Method', \n",
    "    hue_order=method_order, \n",
    "    width=0.65,\n",
    "    linewidth=1.2,\n",
    ")\n",
    "ax.set_axisbelow(True)\n",
    "ax.spines['right'].set_visible(False)\n",
    "ax.spines['top'].set_visible(False)\n",
    "plt.legend(ncols=2)\n",
    "plt.xlabel('')\n",
    "plt.ylabel('AUC (%)')\n",
    "plt.show()"
   ]
  },
  {
   "cell_type": "code",
   "execution_count": null,
   "metadata": {},
   "outputs": [],
   "source": []
  }
 ],
 "metadata": {
  "kernelspec": {
   "display_name": "py3.10",
   "language": "python",
   "name": "python3"
  },
  "language_info": {
   "codemirror_mode": {
    "name": "ipython",
    "version": 3
   },
   "file_extension": ".py",
   "mimetype": "text/x-python",
   "name": "python",
   "nbconvert_exporter": "python",
   "pygments_lexer": "ipython3",
   "version": "3.10.8"
  },
  "orig_nbformat": 4,
  "vscode": {
   "interpreter": {
    "hash": "214dd21d0a6b6a9b6147c86067e0d4083e451e2c55a23abb0d4bab5f0c414e71"
   }
  }
 },
 "nbformat": 4,
 "nbformat_minor": 2
}
